{
 "cells": [
  {
   "cell_type": "markdown",
   "metadata": {},
   "source": [
    "## Introduction\n",
    "\n",
    "This notebook will document the creation of a real estate price and information dataset. I will use packages BeautifulSoup and Selenium to scrape data from realestate.com.au and domain.com.au and then process it into a structured dataset for modelling."
   ]
  },
  {
   "cell_type": "code",
   "execution_count": 26,
   "metadata": {},
   "outputs": [],
   "source": [
    "import os\n",
    "from bs4 import BeautifulSoup\n",
    "from selenium import webdriver\n",
    "from selenium.webdriver.common.keys import Keys\n",
    "from selenium.webdriver.common.by import By\n",
    "import sys\n",
    "import numpy as np\n",
    "import pandas as pd\n",
    "import regex as re\n",
    "import requests\n",
    "from math import ceil\n",
    "from time import sleep, time, perf_counter\n",
    "from random import randint\n",
    "from IPython.core.display import clear_output\n",
    "from fake_useragent import UserAgent"
   ]
  },
  {
   "cell_type": "markdown",
   "metadata": {},
   "source": [
    "### Testing\n",
    "Open the Firefox browser and go to website using Selenium"
   ]
  },
  {
   "cell_type": "code",
   "execution_count": 218,
   "metadata": {},
   "outputs": [],
   "source": [
    "# Open firefox browser\n",
    "browser = webdriver.Firefox()\n",
    "\n",
    "# Go to Realestate.com.au, NSW properties 1st page\n",
    "browser.get('https://www.realestate.com.au/buy/in-nsw/list-1')"
   ]
  },
  {
   "cell_type": "markdown",
   "metadata": {},
   "source": [
    "First we need to inspect the HTML of the site to look for the tags which store the links to the detailed property information pages. Let's use BeautifulSoup to scrape the page's HTML and telling it to find that details link for each property."
   ]
  },
  {
   "cell_type": "code",
   "execution_count": 219,
   "metadata": {},
   "outputs": [
    {
     "data": {
      "text/plain": [
       "[<a class=\"details-link residential-card__details-link\" href=\"/property-apartment-nsw-bondi-131687742\"><span class=\"\">11/28 Edward Street, Bondi</span></a>,\n",
       " <a class=\"details-link residential-card__details-link\" href=\"/property-house-nsw-riverstone-131892442\"><span class=\"\">56 McCulloch Street, Riverstone</span></a>,\n",
       " <a class=\"details-link residential-card__details-link\" href=\"/property-house-nsw-harrington+park-131784446\"><span class=\"\">5 Sir Warwick Fairfax Drive, Harrington Park</span></a>,\n",
       " <a class=\"details-link residential-card__details-link\" href=\"/property-house-nsw-blacktown-131892406\"><span class=\"\">8 Kastelan Street, Blacktown</span></a>,\n",
       " <a class=\"details-link residential-card__details-link\" href=\"/property-house-nsw-narrabeen-131783742\"><span class=\"\">11 Albemarle Street, Narrabeen</span></a>]"
      ]
     },
     "execution_count": 219,
     "metadata": {},
     "output_type": "execute_result"
    }
   ],
   "source": [
    "soup = BeautifulSoup(browser.page_source, 'html.parser')\n",
    "\n",
    "# Get links to each house's webpage\n",
    "listings = soup.find_all(\"a\", class_=\"details-link residential-card__details-link\")\n",
    "listings[:5]"
   ]
  },
  {
   "cell_type": "markdown",
   "metadata": {},
   "source": [
    "Each one of these entries contains a 'class' and a 'href' attribute. What we are after is the href tag, which gives us the suffix of the specific property's webpage link. To extract that attribute, very simply do the following:"
   ]
  },
  {
   "cell_type": "code",
   "execution_count": 55,
   "metadata": {},
   "outputs": [
    {
     "data": {
      "text/plain": [
       "'/property-unit-nsw-westmead-131784298'"
      ]
     },
     "execution_count": 55,
     "metadata": {},
     "output_type": "execute_result"
    }
   ],
   "source": [
    "listings[0]['href']"
   ]
  },
  {
   "cell_type": "markdown",
   "metadata": {},
   "source": [
    "To get the full link, we just need to append the suffix to the root URL, https://www.realestate.com.au. "
   ]
  },
  {
   "cell_type": "code",
   "execution_count": 56,
   "metadata": {},
   "outputs": [
    {
     "data": {
      "text/plain": [
       "['https://www.realestate.com.au/property-unit-nsw-westmead-131784298',\n",
       " 'https://www.realestate.com.au/property-unit-nsw-manly+vale-131599398',\n",
       " 'https://www.realestate.com.au/property-unit-nsw-albury-131892214',\n",
       " 'https://www.realestate.com.au/property-house-nsw-rozelle-131784258',\n",
       " 'https://www.realestate.com.au/property-apartment-nsw-coolangatta-131892246']"
      ]
     },
     "execution_count": 56,
     "metadata": {},
     "output_type": "execute_result"
    }
   ],
   "source": [
    "property_links = [ 'https://www.realestate.com.au' + suffix['href'] for suffix in listings ]\n",
    "property_links[:5]"
   ]
  },
  {
   "cell_type": "markdown",
   "metadata": {},
   "source": [
    "Now that we have all the property links to the first page, we need to replicate the same process for the 2nd, 3rd, 4th etc. pages in the RealEstate website (just for NSW there are 55000 homes).\n",
    "\n",
    "FOr example the below snippet is the html corresponding to the 'Next' button (we can see it is just 'list-2', 'list-3' etc, so perhaps we could even just hardcode this in):\n",
    "\n",
    "```HTML\n",
    "<a href=\"/buy/property-house-in-nsw/list-2?includeSurrounding=false\" class=\"rui-button-brand pagination__link-next\" title=\"Go to Next Page\" rel=\"next\"><span class=\"pagination__next-label\">Next</span><span class=\"rui-icon rui-icon-forward-small\"></span></a>\n",
    "```\n",
    "\n",
    "Again, we can use BeautifulSoup's find_all method to look for 'a' tags can the class \"rui-button-brand pagination__link-next\"."
   ]
  },
  {
   "cell_type": "code",
   "execution_count": 220,
   "metadata": {},
   "outputs": [
    {
     "data": {
      "text/plain": [
       "'https://www.realestate.com.au/buy/in-nsw/list-2'"
      ]
     },
     "execution_count": 220,
     "metadata": {},
     "output_type": "execute_result"
    }
   ],
   "source": [
    "# Get link to next page\n",
    "nextpage = soup.find_all(\"a\", class_=\"rui-button-brand pagination__link-next\")\n",
    "nextpage_link = 'https://www.realestate.com.au' + nextpage[0]['href']\n",
    "nextpage_link"
   ]
  },
  {
   "cell_type": "markdown",
   "metadata": {},
   "source": [
    "We actually don't need to use Selenium to scrape realestate.com.au, since its mostly a static html webpage. I can even just loop through the page numbers (ie. list-1,list-2,list-3...). Instead of Selenium I will use the python requests library to get the website.\n",
    "\n",
    "Below is the same snippet fom above that extracts the desired html tags from the site.\n",
    "\n",
    "Note: must specify user-agent***"
   ]
  },
  {
   "cell_type": "code",
   "execution_count": 4,
   "metadata": {},
   "outputs": [
    {
     "data": {
      "text/plain": [
       "[<a class=\"details-link residential-card__details-link\" href=\"/property-apartment-nsw-rouse+hill-131704398\"><span class=\"\">66/97 Caddies Boulevard, Rouse Hill</span></a>,\n",
       " <a class=\"details-link residential-card__details-link\" href=\"/property-house-nsw-north+kellyville-131803638\"><span class=\"\">10 Blue Wren Way, North Kellyville</span></a>,\n",
       " <a class=\"details-link residential-card__details-link\" href=\"/property-apartment-nsw-rouse+hill-131913202\"><span class=\"\">5/93 Caddies Boulevard, Rouse Hill</span></a>,\n",
       " <a class=\"details-link residential-card__details-link\" href=\"/property-house-nsw-kellyville-131911202\"><span class=\"\">10 Blackham Road, Kellyville</span></a>,\n",
       " <a class=\"details-link residential-card__details-link\" href=\"/property-house-nsw-kellyville-131910858\"><span class=\"\">35 Glenrowan Avenue, Kellyville</span></a>]"
      ]
     },
     "execution_count": 4,
     "metadata": {},
     "output_type": "execute_result"
    }
   ],
   "source": [
    "headers={'User-Agent': \"Mozilla/5.0 (Windows NT 10.0; WOW64) AppleWebKit/537.36 (KHTML, like Gecko) Chrome/76.0.3809.132 Safari/537.36\"}\n",
    "req  = requests.get('https://www.realestate.com.au/buy/in-2155/list-1', headers=headers)\n",
    "soup = BeautifulSoup(req.content, 'html.parser')\n",
    "\n",
    "# Get links to each house's webpage\n",
    "links = soup.find_all(\"a\", class_=\"details-link residential-card__details-link\")\n",
    "links[0]['href']"
   ]
  },
  {
   "cell_type": "markdown",
   "metadata": {},
   "source": [
    "### Scraping Code\n",
    "\n",
    "We need a some code to better handle retries in the web scrape since errors can happen at any point. The code ideally should also be able to retain the list obtained so far and save the page number and postcode that the web crawler is up to."
   ]
  },
  {
   "cell_type": "code",
   "execution_count": 27,
   "metadata": {},
   "outputs": [],
   "source": [
    "# This code comes from: https://www.peterbe.com/plog/best-practice-with-retries-with-requests\n",
    "# Basically we 'replace requests.get(...)', with 'requests_retry_session().get(...)'\n",
    "import requests\n",
    "from requests.adapters import HTTPAdapter\n",
    "from requests.packages.urllib3.util.retry import Retry\n",
    "\n",
    "\n",
    "def requests_retry_session(\n",
    "    retries=3,\n",
    "    backoff_factor=0.3,\n",
    "    status_forcelist=(500, 502, 504),\n",
    "    session=None,\n",
    "):\n",
    "    session = session or requests.Session()\n",
    "    retry = Retry(\n",
    "        total=retries,\n",
    "        read=retries,\n",
    "        connect=retries,\n",
    "        backoff_factor=backoff_factor,\n",
    "        status_forcelist=status_forcelist,\n",
    "    )\n",
    "    adapter = HTTPAdapter(max_retries=retry)\n",
    "    session.mount('http://', adapter)\n",
    "    session.mount('https://', adapter)\n",
    "    return session"
   ]
  },
  {
   "cell_type": "code",
   "execution_count": 28,
   "metadata": {},
   "outputs": [],
   "source": [
    "def get_property_links(url, max_pages,headers):\n",
    "    property_links = []\n",
    "    \n",
    "    for i in range(max_pages):\n",
    "        req  = requests_retry_session().get( url + str(i+1) + '?includeSurrounding=false' ,headers=headers)\n",
    "        soup = BeautifulSoup(req.content, 'html.parser')\n",
    "        listings = soup.find_all(\"a\", class_=\"details-link residential-card__details-link\")\n",
    "        page_link = ['https://www.realestate.com.au'+row['href'] for row in listings]\n",
    "        property_links.extend(page_link)\n",
    "        print('page'+str(i+1))\n",
    "        sleep(np.random.lognormal(0,1))\n",
    "    \n",
    "    return property_links"
   ]
  },
  {
   "cell_type": "code",
   "execution_count": 4,
   "metadata": {},
   "outputs": [
    {
     "name": "stdout",
     "output_type": "stream",
     "text": [
      "page1\n",
      "page2\n",
      "page3\n"
     ]
    },
    {
     "data": {
      "text/plain": [
       "19.8397153"
      ]
     },
     "execution_count": 4,
     "metadata": {},
     "output_type": "execute_result"
    }
   ],
   "source": [
    "headers={'User-Agent': \"Mozilla/5.0 (Windows NT 10.0; WOW64) AppleWebKit/537.36 (KHTML, like Gecko) Chrome/76.0.3809.132 Safari/537.36\"}\n",
    "\n",
    "start=perf_counter()\n",
    "property_links = get_property_links('https://www.realestate.com.au/buy/in-2000/list-', 3,headers)\n",
    "end=perf_counter()\n",
    "end-start"
   ]
  },
  {
   "cell_type": "code",
   "execution_count": 5,
   "metadata": {},
   "outputs": [
    {
     "data": {
      "text/plain": [
       "['https://www.realestate.com.au/property-apartment-nsw-haymarket-131628150',\n",
       " 'https://www.realestate.com.au/property-apartment-nsw-sydney-131625954',\n",
       " 'https://www.realestate.com.au/property-apartment-nsw-sydney-131821082',\n",
       " 'https://www.realestate.com.au/property-apartment-nsw-sydney-131813602',\n",
       " 'https://www.realestate.com.au/property-apartment-nsw-sydney-131713782']"
      ]
     },
     "execution_count": 5,
     "metadata": {},
     "output_type": "execute_result"
    }
   ],
   "source": [
    "property_links[:5]"
   ]
  },
  {
   "cell_type": "markdown",
   "metadata": {},
   "source": [
    "One thing to make sure is the crawler doesn't try to go beyond the last page. If it does, it either starts looking at surrounding suburbs, or just displays a blank page. We can use the number of results summary at the top of the list (eg. '25 of 48 results') to calculate the maximum number of pages to visit."
   ]
  },
  {
   "cell_type": "code",
   "execution_count": 6,
   "metadata": {},
   "outputs": [
    {
     "name": "stdout",
     "output_type": "stream",
     "text": [
      "1-25 of 51 results\n",
      "51\n"
     ]
    }
   ],
   "source": [
    "req_test  = requests_retry_session().get( 'https://www.realestate.com.au/buy/in-pyrmont/list-1?includeSurrounding=false' ,headers=headers)\n",
    "soup = BeautifulSoup(req_test.content, 'html.parser')\n",
    "html_section = soup.find(\"div\", class_=\"results-set-header__summary\")\n",
    "print(html_section.text)\n",
    "print(re.findall(r\"(\\d+) result\", html_section.text)[0])"
   ]
  },
  {
   "cell_type": "code",
   "execution_count": 29,
   "metadata": {},
   "outputs": [],
   "source": [
    "def get_max_pages(url,useragent):\n",
    "    headers = {'User-Agent': str(useragent)}\n",
    "    req  = requests_retry_session().get( url + '1?includeSurrounding=false' ,headers=headers)\n",
    "    soup = BeautifulSoup(req.content, 'html.parser')\n",
    "    results = soup.find(\"div\", class_=\"results-set-header__summary\")\n",
    "    num_results = re.findall(r\"(\\d+) result\", results.text)[0]\n",
    "    max_pages = ceil(int(num_results)/25)\n",
    "    return max_pages"
   ]
  },
  {
   "cell_type": "markdown",
   "metadata": {},
   "source": [
    "Realestate.com.au does not display all 55000 homes when I filter by NSW, it limits the number of listed pages to 80. Therefore, it only shows up to 2000 homes, which is not a large enough dataset for us. One thing we can do is get a full NSW postcode list and do a search for each postcode (most likely no postcodes have more than 2000 ads). I found a postcode list that's been generously made public by Matthew Proctor here: https://www.matthewproctor.com/australian_postcodes\n",
    "\n",
    "After testing manually, looks like when you search by postcode the website becomes: \n",
    "\n",
    "URL = 'https://www.realestate.com.au/buy/in' + POSTCODE + '/list-' + PAGE_NUMBER\n",
    "\n",
    "Below is code to loop through loop through each postcode and then extract each link."
   ]
  },
  {
   "cell_type": "code",
   "execution_count": 30,
   "metadata": {},
   "outputs": [
    {
     "data": {
      "text/plain": [
       "array([2000, 2006, 2007, 2008, 2009, 2010, 2011, 2015, 2016, 2017, 2018,\n",
       "       2019, 2020, 2021, 2022, 2023, 2024, 2025, 2026, 2027], dtype=int64)"
      ]
     },
     "execution_count": 30,
     "metadata": {},
     "output_type": "execute_result"
    }
   ],
   "source": [
    "# Get Postcodes\n",
    "postcodes = pd.read_csv(\"./data/australian_postcodes.csv\")\n",
    "postcode_list=postcodes[postcodes.type==\"Delivery Area\"].postcode\n",
    "nsw_postcodes = postcode_list[(postcode_list>=2000) & (postcode_list<=2999)].unique()\n",
    "nsw_postcodes[:20]"
   ]
  },
  {
   "cell_type": "markdown",
   "metadata": {},
   "source": [
    "### Get All Property Links\n",
    "For each postcode, get the max number of pages from the results count, and then loop through to get all the property links. "
   ]
  },
  {
   "cell_type": "code",
   "execution_count": 9,
   "metadata": {},
   "outputs": [
    {
     "name": "stdout",
     "output_type": "stream",
     "text": [
      "Postcode: 2911, Total pages: 1\n",
      "page1\n",
      "Request: 3260; Frequency: 0.40930754752330795 requests/s\n",
      "Postcode: 2912, Total pages: 3\n",
      "page1\n",
      "page2\n",
      "page3\n",
      "Request: 3264; Frequency: 0.4091082794707579 requests/s\n",
      "Postcode: 2913, Total pages: 7\n",
      "page1\n",
      "page2\n",
      "page3\n",
      "page4\n",
      "page5\n",
      "page6\n",
      "page7\n",
      "Request: 3272; Frequency: 0.40815987554358024 requests/s\n",
      "Postcode: 2914, Total pages: 9\n",
      "page1\n",
      "page2\n",
      "page3\n",
      "page4\n",
      "page5\n",
      "page6\n",
      "page7\n",
      "page8\n",
      "page9\n",
      "Request: 3282; Frequency: 0.4079151073438699 requests/s\n"
     ]
    }
   ],
   "source": [
    "nsw_property_links = []\n",
    "num_requests = 0\n",
    "start_time = time()\n",
    "i=0\n",
    "headers={'User-Agent': \"Mozilla/5.0 (Windows NT 10.0; WOW64) AppleWebKit/537.36 (KHTML, like Gecko) Chrome/76.0.3809.132 Safari/537.36\"}\n",
    "\n",
    "\n",
    "for postcode in nsw_postcodes:\n",
    "    url = 'https://www.realestate.com.au/buy/in-' + str(postcode) + '/list-'\n",
    "    max_pages = get_max_pages(url, headers=headers) # get the number of pages of results\n",
    "    num_requests += 1\n",
    "    print('Postcode: '+ str(postcode) + ', Total pages: ' + str(max_pages))\n",
    "    \n",
    "    if max_pages == 0: # if there are 0 results, skip to the next postcode\n",
    "        continue\n",
    "    \n",
    "    sleep(np.random.lognormal(0.3,1))\n",
    "    \n",
    "    nsw_property_links.extend(get_property_links(url, max_pages,headers)) # get all property links from each page, and add to end of list\n",
    "    num_requests += max_pages\n",
    "    elapsed_time = time() - start_time\n",
    "    print('Request: {}; Frequency: {} requests/s'.format(num_requests, num_requests/elapsed_time))\n",
    "    \n",
    "    i+=1\n",
    "    if i>=5:\n",
    "        clear_output(wait=True)\n",
    "        i=0\n",
    "    "
   ]
  },
  {
   "cell_type": "markdown",
   "metadata": {},
   "source": [
    "Yay! Looks like we have all 57k property links downloaded without errors! Now we can save the list of links using pickle"
   ]
  },
  {
   "cell_type": "code",
   "execution_count": 45,
   "metadata": {},
   "outputs": [],
   "source": [
    "import pickle\n",
    "# with open(\"./data/nsw_property_links.txt\", \"wb\") as fp:   #Pickling\n",
    "#     pickle.dump(nsw_property_links, fp)"
   ]
  },
  {
   "cell_type": "code",
   "execution_count": 18,
   "metadata": {},
   "outputs": [],
   "source": [
    "import pickle\n",
    "\n",
    "with open(\"./data/nsw_property_links.txt\", \"rb\") as fp:   # Unpickling\n",
    "    nsw_property_links = pickle.load(fp)"
   ]
  },
  {
   "cell_type": "markdown",
   "metadata": {},
   "source": [
    "### Get Property Data Using Only Listing Pages\n",
    "Let's try to get as much property data as possible from the listing pages, since that's only 2200 requests as opposed to the 55000 requests if we extract from each individual property's web page."
   ]
  },
  {
   "cell_type": "code",
   "execution_count": 31,
   "metadata": {},
   "outputs": [],
   "source": [
    "# Functions to extract features from Listing Pages (each page with approx 25 properties)\n",
    "def get_link(soup):\n",
    "    try:\n",
    "        link = 'https://www.realestate.com.au' +  soup.find(\"a\", class_=\"details-link residential-card__details-link\")[\"href\"]\n",
    "        return link\n",
    "    except:\n",
    "        return \"None\"\n",
    "\n",
    "def get_address(soup):\n",
    "    try:\n",
    "        address = soup.find(\"h2\", class_=\"residential-card__address-heading\").text\n",
    "        return address\n",
    "    except:\n",
    "        return \"None\"\n",
    "\n",
    "def get_price(soup):\n",
    "    try:\n",
    "        price =  soup.find(\"span\", class_=\"property-price\").text\n",
    "        return price\n",
    "    except:\n",
    "        return \"None\"\n",
    "    \n",
    "def get_beds(soup):\n",
    "    try:\n",
    "        beds = soup.find(\"span\", class_=\"general-features__icon general-features__beds\").text\n",
    "        return beds\n",
    "    except:\n",
    "        return \"None\"\n",
    "\n",
    "def get_baths(soup):\n",
    "    try:\n",
    "        baths = soup.find(\"span\", class_=\"general-features__icon general-features__baths\").text\n",
    "        return baths\n",
    "    except:\n",
    "        return \"None\"\n",
    "    \n",
    "def get_cars(soup):\n",
    "    try:\n",
    "        cars = soup.find(\"span\", class_=\"general-features__icon general-features__cars\").text\n",
    "        return cars\n",
    "    except:\n",
    "        return \"None\"\n",
    "\n",
    "def get_property_area(soup):\n",
    "    try:\n",
    "        property_area = soup.find(\"span\", class_=\"property-size__icon property-size__building\").text\n",
    "        return property_area\n",
    "    except:\n",
    "        return \"None\"\n",
    "    \n",
    "def get_land_area(soup):\n",
    "    try:\n",
    "        land_area = soup.find(\"span\", class_=\"property-size__icon property-size__land\").text\n",
    "        return land_area\n",
    "    except:\n",
    "        return \"None\"\n",
    "    \n",
    "def get_property_type(soup):\n",
    "    try:\n",
    "        property_type = soup.find(\"span\", class_=\"residential-card__property-type\").text\n",
    "        return property_type\n",
    "    except:\n",
    "        return \"None\""
   ]
  },
  {
   "cell_type": "code",
   "execution_count": 96,
   "metadata": {},
   "outputs": [],
   "source": [
    "def get_html_data(url,useragent):\n",
    "    headers={'User-Agent': str(useragent)}\n",
    "    req  = requests_retry_session().get( url, headers=headers)\n",
    "    soup = BeautifulSoup(req.content, 'html.parser')\n",
    "    return soup\n",
    "\n",
    "def get_property_data(url,postcode, max_pages,useragent):\n",
    "    property_data = []\n",
    "    \n",
    "    for i in range(max_pages):\n",
    "        \n",
    "        soup = get_html_data(url + str(i+1) + '?includeSurrounding=false', useragent)\n",
    "        \n",
    "        all_listings_html = soup.find_all(\"div\", {'class':'residential-card__content'})\n",
    "        for listing in all_listings_html:\n",
    "            link = get_link(listing)\n",
    "            address = get_address(listing)\n",
    "            price = get_price(listing)\n",
    "            beds = get_beds(listing)\n",
    "            baths = get_baths(listing)\n",
    "            cars = get_cars(listing)\n",
    "            property_area = get_property_area(listing)\n",
    "            land_area = get_land_area(listing)\n",
    "            property_type = get_property_type(listing)\n",
    "            property_data.append([link,\n",
    "                      address,\n",
    "                      postcode,            \n",
    "                      price,\n",
    "                      beds,\n",
    "                      baths,\n",
    "                      cars,\n",
    "                      property_area,\n",
    "                      land_area,\n",
    "                      property_type])  \n",
    "        \n",
    "        print('page'+str(i+1))\n",
    "        sleep(np.random.lognormal(0,1))\n",
    "        \n",
    "    return property_data"
   ]
  },
  {
   "cell_type": "markdown",
   "metadata": {},
   "source": [
    "Similar code to ###'Get All Property Links' above, but we will use the get_property_data function to get the other features which are listed on the listings pages."
   ]
  },
  {
   "cell_type": "code",
   "execution_count": 100,
   "metadata": {},
   "outputs": [
    {
     "name": "stdout",
     "output_type": "stream",
     "text": [
      "Postcode: 2911, Total pages: 1\n",
      "page1\n",
      "Requests: 3250; Frequency: 0.437 requests/s\n",
      "Total Properties: 57254; Elapsed Time: 7432.739\n",
      "Postcode: 2912, Total pages: 3\n",
      "page1\n",
      "page2\n",
      "page3\n",
      "Requests: 3254; Frequency: 0.437 requests/s\n",
      "Total Properties: 57321; Elapsed Time: 7444.147\n",
      "Postcode: 2913, Total pages: 7\n",
      "page1\n",
      "page2\n",
      "page3\n",
      "page4\n",
      "page5\n",
      "page6\n",
      "page7\n",
      "Requests: 3262; Frequency: 0.436 requests/s\n",
      "Total Properties: 57479; Elapsed Time: 7489.243\n",
      "Postcode: 2914, Total pages: 9\n",
      "page1\n",
      "page2\n",
      "page3\n",
      "page4\n",
      "page5\n",
      "page6\n",
      "page7\n",
      "page8\n",
      "page9\n",
      "Requests: 3272; Frequency: 0.436 requests/s\n",
      "Total Properties: 57680; Elapsed Time: 7509.152\n"
     ]
    }
   ],
   "source": [
    "nsw_property_data = []\n",
    "num_requests = 0\n",
    "i=0\n",
    "ua = UserAgent() # Get list of fake user agents\n",
    "\n",
    "start_time = time()\n",
    "for postcode in nsw_postcodes:\n",
    "    url = 'https://www.realestate.com.au/buy/in-' + str(postcode) + '/list-'\n",
    "    max_pages = get_max_pages(url, useragent=ua.random) # get the number of pages of results\n",
    "    num_requests += 1\n",
    "    print('Postcode: '+ str(postcode) + ', Total pages: ' + str(max_pages))\n",
    "    \n",
    "    if max_pages == 0: # if there are 0 results, skip to the next postcode\n",
    "        continue\n",
    "    \n",
    "    sleep(np.random.lognormal(0,1))\n",
    "    \n",
    "    nsw_property_data.extend(get_property_data(url,postcode, max_pages, useragent=ua.random)) # get all property links from each page, and add to end of list\n",
    "    num_requests += max_pages\n",
    "    elapsed_time = time() - start_time\n",
    "    print('Requests: {}; Frequency: {:.3f} requests/s'.format(num_requests, num_requests/elapsed_time))\n",
    "    print('Total Properties: {}; Elapsed Time: {:.3f}'.format(len(nsw_property_data),elapsed_time))\n",
    "    \n",
    "    i+=1\n",
    "    if i>=5:\n",
    "        clear_output(wait=True)\n",
    "        i=0\n",
    "    "
   ]
  },
  {
   "cell_type": "code",
   "execution_count": 106,
   "metadata": {},
   "outputs": [
    {
     "data": {
      "text/plain": [
       "57680"
      ]
     },
     "execution_count": 106,
     "metadata": {},
     "output_type": "execute_result"
    }
   ],
   "source": [
    "len(nsw_property_data)"
   ]
  },
  {
   "cell_type": "code",
   "execution_count": 102,
   "metadata": {},
   "outputs": [
    {
     "data": {
      "text/plain": [
       "[['https://www.realestate.com.au/property-apartment-nsw-sydney-131924626',\n",
       "  '511/188 Day Street, Sydney',\n",
       "  2000,\n",
       "  'For Sale | Obsidian Property',\n",
       "  ' 3',\n",
       "  ' 2',\n",
       "  ' 1',\n",
       "  'None',\n",
       "  'None',\n",
       "  'Apartment'],\n",
       " ['https://www.realestate.com.au/property-apartment-nsw-haymarket-131628150',\n",
       "  '1803/178 Thomas Street, Haymarket',\n",
       "  2000,\n",
       "  'Contact Agent',\n",
       "  ' 2',\n",
       "  ' 2',\n",
       "  ' 2',\n",
       "  'None',\n",
       "  'None',\n",
       "  'Apartment'],\n",
       " ['https://www.realestate.com.au/property-apartment-nsw-sydney-131625954',\n",
       "  '2406/168 Kent Street, Sydney',\n",
       "  2000,\n",
       "  '$1,540,000',\n",
       "  ' 1',\n",
       "  ' 1',\n",
       "  ' 1',\n",
       "  'None',\n",
       "  'None',\n",
       "  'Apartment'],\n",
       " ['https://www.realestate.com.au/property-apartment-nsw-sydney-131821082',\n",
       "  '806/1 Hosking Place, Sydney',\n",
       "  2000,\n",
       "  '$719,000',\n",
       "  ' 1',\n",
       "  ' 1',\n",
       "  'None',\n",
       "  'None',\n",
       "  'None',\n",
       "  'Apartment'],\n",
       " ['https://www.realestate.com.au/property-apartment-nsw-sydney-131813602',\n",
       "  '1702/11-15 Alberta Street, Sydney',\n",
       "  2000,\n",
       "  'Auction',\n",
       "  ' 2',\n",
       "  ' 2',\n",
       "  ' 1',\n",
       "  'None',\n",
       "  'None',\n",
       "  'Apartment'],\n",
       " ['https://www.realestate.com.au/property-apartment-nsw-sydney-131713782',\n",
       "  '2602/130 Elizabeth Street, Sydney',\n",
       "  2000,\n",
       "  '$3,250,000',\n",
       "  ' 2',\n",
       "  ' 2',\n",
       "  ' 1',\n",
       "  'None',\n",
       "  'None',\n",
       "  'Apartment'],\n",
       " ['https://www.realestate.com.au/property-apartment-nsw-sydney-131921262',\n",
       "  '605/50 Murray street, Sydney',\n",
       "  2000,\n",
       "  'For Sale',\n",
       "  ' 2',\n",
       "  ' 2',\n",
       "  ' 1',\n",
       "  'None',\n",
       "  'None',\n",
       "  'Apartment'],\n",
       " ['https://www.realestate.com.au/property-apartment-nsw-sydney-131609990',\n",
       "  '187 Kent St, Sydney',\n",
       "  2000,\n",
       "  '$955,000 - $985,000',\n",
       "  ' 1',\n",
       "  ' 1',\n",
       "  'None',\n",
       "  '\\xa064',\n",
       "  'None',\n",
       "  'Apartment'],\n",
       " ['https://www.realestate.com.au/property-apartment-nsw-sydney-131803558',\n",
       "  '2103/157 Liverpool Street, Sydney',\n",
       "  2000,\n",
       "  'Contact Agent',\n",
       "  ' 2',\n",
       "  ' 2',\n",
       "  ' 1',\n",
       "  '\\xa0122',\n",
       "  'None',\n",
       "  'Apartment'],\n",
       " ['https://www.realestate.com.au/property-apartment-nsw-sydney-131798910',\n",
       "  '5/569 George st, Sydney',\n",
       "  2000,\n",
       "  'Must Sell $1,100,000',\n",
       "  ' 2',\n",
       "  ' 2',\n",
       "  ' 1',\n",
       "  'None',\n",
       "  'None',\n",
       "  'Apartment']]"
      ]
     },
     "execution_count": 102,
     "metadata": {},
     "output_type": "execute_result"
    }
   ],
   "source": [
    "nsw_property_data[:10]"
   ]
  },
  {
   "cell_type": "code",
   "execution_count": 104,
   "metadata": {},
   "outputs": [],
   "source": [
    "# Full property data features\n",
    "import pickle\n",
    "with open(\"./data/nsw_property_data_full.pickle\", \"wb\") as fp:   #Pickling\n",
    "    pickle.dump(nsw_property_data, fp)"
   ]
  },
  {
   "cell_type": "code",
   "execution_count": 105,
   "metadata": {},
   "outputs": [],
   "source": [
    "import time\n",
    "file_name = \"data/nsw_property_data_\" + str(time.strftime(\"%Y-%m-%d\")) + \".csv\"\n",
    "\n",
    "columns = [\"link\",\n",
    "           \"address\", \n",
    "           \"postcode\", # If I run this next time, I will include the postcode\n",
    "           \"price\", \n",
    "           \"num_beds\",\n",
    "           \"num_baths\",\n",
    "           \"num_cars\",\n",
    "           \"property_area\",\n",
    "           \"land_area\",\n",
    "           \"property_type\"]\n",
    "           \n",
    "(pd.DataFrame(nsw_property_data, columns = columns).\n",
    "    to_csv(file_name, index = False, encoding = \"UTF-8\"))\n"
   ]
  },
  {
   "cell_type": "markdown",
   "metadata": {},
   "source": [
    "Let's fix a few things up, like leaving out the postcode. I can still match it back with the postcode mapping csv I had before."
   ]
  },
  {
   "cell_type": "code",
   "execution_count": 39,
   "metadata": {},
   "outputs": [],
   "source": [
    "nsw_property_data = pd.read_csv(\"data/nsw_property_data_2019-09-09.csv\")"
   ]
  },
  {
   "cell_type": "code",
   "execution_count": 81,
   "metadata": {},
   "outputs": [
    {
     "name": "stderr",
     "output_type": "stream",
     "text": [
      "C:\\Users\\martin.cheung\\AppData\\Local\\Continuum\\anaconda3\\lib\\site-packages\\ipykernel_launcher.py:4: SettingWithCopyWarning: \n",
      "A value is trying to be set on a copy of a slice from a DataFrame.\n",
      "Try using .loc[row_indexer,col_indexer] = value instead\n",
      "\n",
      "See the caveats in the documentation: http://pandas.pydata.org/pandas-docs/stable/indexing.html#indexing-view-versus-copy\n",
      "  after removing the cwd from sys.path.\n"
     ]
    },
    {
     "data": {
      "text/html": [
       "<div>\n",
       "<style scoped>\n",
       "    .dataframe tbody tr th:only-of-type {\n",
       "        vertical-align: middle;\n",
       "    }\n",
       "\n",
       "    .dataframe tbody tr th {\n",
       "        vertical-align: top;\n",
       "    }\n",
       "\n",
       "    .dataframe thead th {\n",
       "        text-align: right;\n",
       "    }\n",
       "</style>\n",
       "<table border=\"1\" class=\"dataframe\">\n",
       "  <thead>\n",
       "    <tr style=\"text-align: right;\">\n",
       "      <th></th>\n",
       "      <th>postcode</th>\n",
       "      <th>locality</th>\n",
       "      <th>state</th>\n",
       "      <th>long</th>\n",
       "      <th>lat</th>\n",
       "      <th>dc</th>\n",
       "      <th>type</th>\n",
       "    </tr>\n",
       "  </thead>\n",
       "  <tbody>\n",
       "    <tr>\n",
       "      <th>568</th>\n",
       "      <td>2000</td>\n",
       "      <td>barangaroo</td>\n",
       "      <td>NSW</td>\n",
       "      <td>151.201580</td>\n",
       "      <td>151.201580</td>\n",
       "      <td>NaN</td>\n",
       "      <td>Delivery Area</td>\n",
       "    </tr>\n",
       "    <tr>\n",
       "      <th>570</th>\n",
       "      <td>2000</td>\n",
       "      <td>dawes point</td>\n",
       "      <td>NSW</td>\n",
       "      <td>151.256649</td>\n",
       "      <td>-33.859953</td>\n",
       "      <td>WATERLOO DELIVERY FACILITY</td>\n",
       "      <td>Delivery Area</td>\n",
       "    </tr>\n",
       "    <tr>\n",
       "      <th>571</th>\n",
       "      <td>2000</td>\n",
       "      <td>haymarket</td>\n",
       "      <td>NSW</td>\n",
       "      <td>151.256649</td>\n",
       "      <td>-33.859953</td>\n",
       "      <td>WATERLOO DELIVERY FACILITY</td>\n",
       "      <td>Delivery Area</td>\n",
       "    </tr>\n",
       "    <tr>\n",
       "      <th>572</th>\n",
       "      <td>2000</td>\n",
       "      <td>millers point</td>\n",
       "      <td>NSW</td>\n",
       "      <td>151.256649</td>\n",
       "      <td>-33.859953</td>\n",
       "      <td>WATERLOO DELIVERY FACILITY</td>\n",
       "      <td>Delivery Area</td>\n",
       "    </tr>\n",
       "    <tr>\n",
       "      <th>573</th>\n",
       "      <td>2000</td>\n",
       "      <td>parliament house</td>\n",
       "      <td>NSW</td>\n",
       "      <td>151.256649</td>\n",
       "      <td>-33.859953</td>\n",
       "      <td>WATERLOO DELIVERY FACILITY</td>\n",
       "      <td>Delivery Area</td>\n",
       "    </tr>\n",
       "  </tbody>\n",
       "</table>\n",
       "</div>"
      ],
      "text/plain": [
       "     postcode          locality state        long         lat  \\\n",
       "568      2000        barangaroo   NSW  151.201580  151.201580   \n",
       "570      2000       dawes point   NSW  151.256649  -33.859953   \n",
       "571      2000         haymarket   NSW  151.256649  -33.859953   \n",
       "572      2000     millers point   NSW  151.256649  -33.859953   \n",
       "573      2000  parliament house   NSW  151.256649  -33.859953   \n",
       "\n",
       "                             dc           type  \n",
       "568                         NaN  Delivery Area  \n",
       "570  WATERLOO DELIVERY FACILITY  Delivery Area  \n",
       "571  WATERLOO DELIVERY FACILITY  Delivery Area  \n",
       "572  WATERLOO DELIVERY FACILITY  Delivery Area  \n",
       "573  WATERLOO DELIVERY FACILITY  Delivery Area  "
      ]
     },
     "execution_count": 81,
     "metadata": {},
     "output_type": "execute_result"
    }
   ],
   "source": [
    "# Postcode-SUburb Mapping\n",
    "postcode_mapping = pd.read_csv(\"./data/australian_postcodes.csv\")\n",
    "postcode_mapping_nsw = postcode_mapping.query(\"type=='Delivery Area' & postcode>=2000 & postcode<=2999\")\n",
    "postcode_mapping_nsw[\"locality\"] = postcode_mapping_nsw[\"locality\"].str.lower()\n",
    "postcode_mapping_nsw.head()"
   ]
  },
  {
   "cell_type": "markdown",
   "metadata": {},
   "source": [
    "### Get Individual Property Features"
   ]
  },
  {
   "cell_type": "markdown",
   "metadata": {},
   "source": [
    "In each individual webpage, now we have to extract the relevant features. Test out the tags to search for each property attribute below."
   ]
  },
  {
   "cell_type": "code",
   "execution_count": 36,
   "metadata": {},
   "outputs": [],
   "source": [
    "def get_html_data(url,useragent):\n",
    "    headers={'User-Agent': str(useragent)}\n",
    "    req  = requests_retry_session().get( url, headers=headers)\n",
    "    soup = BeautifulSoup(req.content, 'html.parser')\n",
    "    return soup"
   ]
  },
  {
   "cell_type": "markdown",
   "metadata": {},
   "source": [
    "Below is are functions to extract features from the individual web page. Note: the tags might be slightly different to the ones used to extract data from the listing pages"
   ]
  },
  {
   "cell_type": "code",
   "execution_count": 92,
   "metadata": {},
   "outputs": [],
   "source": [
    "def get_address(soup):\n",
    "    try:\n",
    "        address = soup.find(\"h1\", class_=\"property-info-address\").text\n",
    "        return address\n",
    "    except:\n",
    "        return \"None\"\n",
    "\n",
    "def get_price(soup):\n",
    "    try:\n",
    "        price =  soup.find(\"span\", class_=\"property-price property-info__price\").text\n",
    "        return price\n",
    "    except:\n",
    "        return \"None\"\n",
    "    \n",
    "def get_beds(soup):\n",
    "    try:\n",
    "        beds = soup.find(\"span\", class_=\"general-features__icon general-features__beds\").text\n",
    "        return beds\n",
    "    except:\n",
    "        return \"None\"\n",
    "\n",
    "def get_baths(soup):\n",
    "    try:\n",
    "        baths = soup.find(\"span\", class_=\"general-features__icon general-features__baths\").text\n",
    "        return baths\n",
    "    except:\n",
    "        return \"None\"\n",
    "    \n",
    "def get_cars(soup):\n",
    "    try:\n",
    "        cars = soup.find(\"span\", class_=\"general-features__icon general-features__cars\").text\n",
    "        return cars\n",
    "    except:\n",
    "        return \"None\"\n",
    "\n",
    "def get_property_area(soup):\n",
    "    try:\n",
    "        property_area = soup.find(\"span\", class_=\"property-size__icon property-size__building\").text\n",
    "        return property_area\n",
    "    except:\n",
    "        return \"None\"\n",
    "    \n",
    "def get_land_area(soup):\n",
    "    try:\n",
    "        land_area = soup.find(\"span\", class_=\"property-size__icon property-size__land\").text\n",
    "        return land_area\n",
    "    except:\n",
    "        return \"None\"\n",
    "    \n",
    "def get_description(soup):\n",
    "    try:\n",
    "        description = soup.find(\"article\", class_=\"property-description\").text\n",
    "        return description\n",
    "    except:\n",
    "        return \"None\"\n",
    "    \n",
    "def get_property_features(soup):\n",
    "    try:\n",
    "        property_features = soup.find_all(\"div\", class_=\"property-features__feature\")\n",
    "        \n",
    "        feature_list = [feature.text for feature in property_features]\n",
    "        \n",
    "        return feature_list\n",
    "    except:\n",
    "        return \"None\""
   ]
  },
  {
   "cell_type": "code",
   "execution_count": 38,
   "metadata": {},
   "outputs": [],
   "source": [
    "# Don't use free Proxies - can be risky since we don't know what malware and viruses are on there\n",
    "# import requests\n",
    "# from itertools import cycle\n",
    "# import traceback\n",
    "\n",
    "# with open('data/ProxyList.txt') as f:\n",
    "#     text = f.readlines()\n",
    "    \n",
    "# proxies = [line.strip('\\n') for line in text]\n",
    "\n",
    "# proxy_pool = cycle(proxies)"
   ]
  },
  {
   "cell_type": "code",
   "execution_count": 66,
   "metadata": {},
   "outputs": [],
   "source": [
    "def get_property_data(nsw_property_links):\n",
    "    property_data = []\n",
    "    i=0\n",
    "    num_requests=0\n",
    "    \n",
    "    # Get list of fake user agents\n",
    "    ua = UserAgent()\n",
    "    \n",
    "    start_time = time()\n",
    "    for url in nsw_property_links:\n",
    "        try:\n",
    "            soup = get_html_data(url,ua.random)\n",
    "        except:\n",
    "            print(\"URL doesn't work. Try next one\")\n",
    "            continue\n",
    "        \n",
    "        address = get_address(soup)\n",
    "        price = get_price(soup)\n",
    "        beds = get_beds(soup)\n",
    "        baths = get_baths(soup)\n",
    "        cars = get_cars(soup)\n",
    "        property_area = get_property_area(soup)\n",
    "        land_area = get_land_area(soup)\n",
    "        description = get_description(soup) \n",
    "        feature_list = get_property_features(soup)\n",
    "        \n",
    "        property_data.append([address,\n",
    "                             price,\n",
    "                             beds,\n",
    "                             baths,\n",
    "                             cars,\n",
    "                             property_area,\n",
    "                             land_area,\n",
    "                             description,\n",
    "                             feature_list])\n",
    "        \n",
    "        num_requests+=1\n",
    "\n",
    "        sleep(np.random.lognormal(0.3,1)) # perhaps we don't need to sleep since using proxies is pretty slow already\n",
    "        \n",
    "        elapsed_time = time() - start_time\n",
    "        print('Requests: {}; Elapsed Time: {:.3f}; Frequency: {:.3f} requests/s'.format(num_requests, elapsed_time, num_requests/elapsed_time))\n",
    "        \n",
    "        i+=1\n",
    "        if i>=5:\n",
    "            clear_output(wait=True)\n",
    "            i=0\n",
    "            \n",
    "        if num_requests % 2000 == 0:\n",
    "            with open(\"./data/nsw_property_data.pickle\", \"wb\") as fp:   #Pickling\n",
    "                pickle.dump(property_data, fp)\n",
    "            \n",
    "            print(\"overwrite pickle at request no.:\", num_requests)\n",
    "        \n",
    "    return property_data"
   ]
  },
  {
   "cell_type": "code",
   "execution_count": 67,
   "metadata": {},
   "outputs": [
    {
     "name": "stdout",
     "output_type": "stream",
     "text": [
      "Property Number: 6266\n"
     ]
    },
    {
     "ename": "KeyboardInterrupt",
     "evalue": "",
     "output_type": "error",
     "traceback": [
      "\u001b[1;31m---------------------------------------------------------------------------\u001b[0m",
      "\u001b[1;31mKeyboardInterrupt\u001b[0m                         Traceback (most recent call last)",
      "\u001b[1;32m<ipython-input-67-25e1654b0c68>\u001b[0m in \u001b[0;36m<module>\u001b[1;34m\u001b[0m\n\u001b[1;32m----> 1\u001b[1;33m \u001b[0mproperty_data_10k\u001b[0m \u001b[1;33m=\u001b[0m \u001b[0mget_property_data\u001b[0m\u001b[1;33m(\u001b[0m\u001b[0mnsw_property_links\u001b[0m\u001b[1;33m[\u001b[0m\u001b[1;33m:\u001b[0m\u001b[1;36m10000\u001b[0m\u001b[1;33m]\u001b[0m\u001b[1;33m)\u001b[0m\u001b[1;33m\u001b[0m\u001b[1;33m\u001b[0m\u001b[0m\n\u001b[0m",
      "\u001b[1;32m<ipython-input-66-611700872433>\u001b[0m in \u001b[0;36mget_property_data\u001b[1;34m(nsw_property_links)\u001b[0m\n\u001b[0;32m     37\u001b[0m         \u001b[0mnum_requests\u001b[0m\u001b[1;33m+=\u001b[0m\u001b[1;36m1\u001b[0m\u001b[1;33m\u001b[0m\u001b[1;33m\u001b[0m\u001b[0m\n\u001b[0;32m     38\u001b[0m         \u001b[0mprint\u001b[0m\u001b[1;33m(\u001b[0m\u001b[1;34m'Property Number: '\u001b[0m\u001b[1;33m+\u001b[0m \u001b[0mstr\u001b[0m\u001b[1;33m(\u001b[0m\u001b[0mnum_requests\u001b[0m\u001b[1;33m)\u001b[0m\u001b[1;33m)\u001b[0m\u001b[1;33m\u001b[0m\u001b[1;33m\u001b[0m\u001b[0m\n\u001b[1;32m---> 39\u001b[1;33m         \u001b[0msleep\u001b[0m\u001b[1;33m(\u001b[0m\u001b[0mnp\u001b[0m\u001b[1;33m.\u001b[0m\u001b[0mrandom\u001b[0m\u001b[1;33m.\u001b[0m\u001b[0mlognormal\u001b[0m\u001b[1;33m(\u001b[0m\u001b[1;36m0.3\u001b[0m\u001b[1;33m,\u001b[0m\u001b[1;36m1\u001b[0m\u001b[1;33m)\u001b[0m\u001b[1;33m)\u001b[0m \u001b[1;31m# perhaps we don't need to sleep since using proxies is pretty slow already\u001b[0m\u001b[1;33m\u001b[0m\u001b[1;33m\u001b[0m\u001b[0m\n\u001b[0m\u001b[0;32m     40\u001b[0m \u001b[1;33m\u001b[0m\u001b[0m\n\u001b[0;32m     41\u001b[0m         \u001b[0melapsed_time\u001b[0m \u001b[1;33m=\u001b[0m \u001b[0mtime\u001b[0m\u001b[1;33m(\u001b[0m\u001b[1;33m)\u001b[0m \u001b[1;33m-\u001b[0m \u001b[0mstart_time\u001b[0m\u001b[1;33m\u001b[0m\u001b[1;33m\u001b[0m\u001b[0m\n",
      "\u001b[1;31mKeyboardInterrupt\u001b[0m: "
     ]
    }
   ],
   "source": [
    "property_data_10k = get_property_data(nsw_property_links[:10000])"
   ]
  },
  {
   "cell_type": "code",
   "execution_count": 68,
   "metadata": {},
   "outputs": [
    {
     "ename": "NameError",
     "evalue": "name 'property_data_10k' is not defined",
     "output_type": "error",
     "traceback": [
      "\u001b[1;31m---------------------------------------------------------------------------\u001b[0m",
      "\u001b[1;31mNameError\u001b[0m                                 Traceback (most recent call last)",
      "\u001b[1;32m<ipython-input-68-6f4c2d2f7079>\u001b[0m in \u001b[0;36m<module>\u001b[1;34m\u001b[0m\n\u001b[1;32m----> 1\u001b[1;33m \u001b[0mlen\u001b[0m\u001b[1;33m(\u001b[0m\u001b[0mproperty_data_10k\u001b[0m\u001b[1;33m)\u001b[0m\u001b[1;33m\u001b[0m\u001b[1;33m\u001b[0m\u001b[0m\n\u001b[0m",
      "\u001b[1;31mNameError\u001b[0m: name 'property_data_10k' is not defined"
     ]
    }
   ],
   "source": [
    "len(property_data_10k)"
   ]
  },
  {
   "cell_type": "code",
   "execution_count": 46,
   "metadata": {},
   "outputs": [
    {
     "data": {
      "text/plain": [
       "[['1702/11-15 Alberta Street, Sydney, NSW 2000',\n",
       "  'Auction',\n",
       "  ' 2',\n",
       "  ' 2',\n",
       "  ' 1',\n",
       "  'None',\n",
       "  'None',\n",
       "  'Contemporary urban sanctuary within footsteps of Hyde Park1702/11-15 Alberta Street, SydneyPromising lifestyle excellence in the heart of the city, this sleek apartment provides an idyllic urban sanctuary of contemporary style and space. Cleverly designed and brimming with natural light, it features a generous open layout with zoned living/dining areas plus a CaesarStone island kitchen with quality Smeg gas appliances. The bedrooms are well proportioned and appointed with built-in wardrobes, while sliding glass doors open to a full width undercover balcony and elevated city outlooks. Complete with secure parking, this superb offering is positioned within a stroll of Hyde Park and the CBD and enjoys shops and cafes at the doorstep.•\\t2 bedroom, 2 bathroom, 1 car•\\tModern security building by Marchese Partners architects•\\tSleek contemporary design with zoned living/dining areas•\\tInteriors open to balcony with elevated urban outlooks•\\tModern island kitchen equipped with Smeg gas appliances•\\tWell scaled bedrooms appointed with built-in wardrobes•\\tStylish marble bathrooms, master features chic ensuite•\\tDucted a/c, floating timber floors, carpeted bedrooms•\\tVideo security intercom, lift access to secure parking•\\tPopular cafes at doorstep, stroll to Hyde Park, Town Hall•\\tWalk to World Square Shopping Centre, bars and eateriesRead more',\n",
       "  ['Garage spaces: 1']],\n",
       " ['2602/130 Elizabeth Street, Sydney, NSW 2000',\n",
       "  '$3,250,000',\n",
       "  ' 2',\n",
       "  ' 2',\n",
       "  ' 1',\n",
       "  'None',\n",
       "  'None',\n",
       "  'Highly desirable all north facing Hyde Park residence.2602/130 Elizabeth Street, SydneyIconic all north facing, two bedroom apartment on Level 26 of the luxurious One30 Hyde Park building. Sophisticated and opulent design featuring sweeping views of Hyde Park, the City Skyline and Sydney Harbour, this brand new property includes secure parking and storage with access to some of Sydney’s best eateries, shops and cafes.• Premier Hyde Park address in luxury One30 Hyde Park building• Floor to ceiling glass showcasing sweeping Harbour & City views• Designed and created by award winning Bates Smart Architects• Direct lift access from secure parking and lock-up storage cage• Striking interiors with marble benchtops and chevron timber floors• Clever wintergarden/enclosed terrace to use all year round• Residents enjoy concierge facilities, gym and outdoor BBQ area• Abundant transport options with direct link to airport from your door• Hyde Park, Cook & Phillip Pool, David Jones, Westfield all nearbyStrata: $3,044pq approx.Water: $178pq approx. Council: $260pq approx.Read more',\n",
       "  ['Carport spaces: 1']],\n",
       " ['605/50 Murray street, Sydney, NSW 2000',\n",
       "  'For Sale',\n",
       "  ' 2',\n",
       "  ' 2',\n",
       "  ' 1',\n",
       "  'None',\n",
       "  'None',\n",
       "  \"One Darling Harbour!605/50 Murray street, SydneyLocated in the sought after 'Darling One' building is this well designed two-bedroom apartment. Easterly facing with partial water views from a generous sized balcony & positioned only a short stroll to the heart of the city. Cleverly designed for comfort and ease of living, revealing a spacious layout with combined lounge/dining plus a well-equipped separate kitchen with gas cooking, dishwasher and granite benchtop.Well-proportioned bedrooms with built-ins and an en-suite setting in the main. Ample space within main bathroom with a combined bath and an internal laundry tucked away. Building Services include;Ducted air conditioningRegistered security car space24-hour conciergepool, spa, sauna and gymViewing deck all available with this stylish and comfortable residence.DISCLAIMER: This advertisement contains information provided by third parties. While all care is taken to ensure otherwise, LJ Hooker Ashfield does not make any representation as to the accuracy of the information contained in the advertisement, does not accept and responsibility or liability and recommends that any client make their own investigations and enquiries. All images are indicative of the property only.Read more\",\n",
       "  ['Air conditioning', 'Garage spaces: 1']],\n",
       " ['187 Kent St, Sydney, NSW 2000',\n",
       "  '$955,000 - $985,000',\n",
       "  ' 1',\n",
       "  ' 1',\n",
       "  ' 1',\n",
       "  '\\xa064',\n",
       "  'None',\n",
       "  \"STUNNING ONE BEDROOM NEXT TO BARANGAROO - EXCELLENT VALUE187 Kent St, SydneyExperience the vibrancy of city life in this fully furnished apartment located in the prestigious 'The Grand' building. With stunning city views, a spacious living area and high quality finishes, this apartment is the ideal city pad or a fantastic investment.Located on a high floor, this apartment has floor to ceiling windows which create a sense of space and light, a full marble bathroom and granite kitchen bench tops.The Grand offers 5 star facilities including an indoor heated lap pool, fully equipped gymnasium and residents lounge.A short walk to Sydney's best shopping, restaurants, Circular Quay and the Harbour Bridge.- Generous 64sqm size with spacious living area- Entertaining balcony with Easterly city views- Bedroom with built-in robes & balcony access- Luxurious marble-tiled bathroom with bathtub- Kitchen with stone benches, internal laundryPlease contact Monique Lavers on 0416 200 686 or monique@sydneycoveproperty.comAll information contained herein is gathered from sources we deem to be reliable however, we cannot guarantee its accuracy and interested persons should rely on their own enquiries.Read more\",\n",
       "  ['Building size: 64m²']],\n",
       " ['2103/157 Liverpool Street, Sydney, NSW 2000',\n",
       "  'Contact Agent',\n",
       "  ' 2',\n",
       "  ' 2',\n",
       "  ' 1',\n",
       "  '\\xa0122',\n",
       "  'None',\n",
       "  'The Hyde - Distinguished Elegance 2103/157 Liverpool Street, SydneyPositioned front and centre onto Hyde Park with breathtaking views to the Opera House and Sydney Harbour, this distinguished higher floor residence is located within the sought after \"Hyde\" building. This is a rare opportunity to acquire a high floor apartment at this world class address. Offering over 122 sqm of uninterrupted northerly vistas, this floor plan has been designed around the current owner\\'s individual needs. Originally a two bedroom plus study, it is now configured as a luxurious one bedroom plus study. You choose the configuration that works for you. This may be the epitome of luxury city living, take a look and decide for yourself.- Favoured 03 floorplan on 21st floor with wide unobstructed views - Vast living space flowing to private balcony- Stone island kitchen with Miele gas appliances- Master bedroom with generous walk in robe, elegant ensuite with deep bath- Second bedroom or second sitting area, you select- Separate study,  an ideal home office- Secure car space and two separate storage cages- State-of-the-art facilities include heated lap pool, sauna, gym and library- Pet friendly building, executive 24 hour concierge service- Metres to beautiful Hyde Park, boutique shopping and fine diningExpressions Of Interest Closing 14th SeptemberRead more',\n",
       "  ['Air conditioning',\n",
       "   'Building size: 122m²',\n",
       "   'Ensuites: 1',\n",
       "   'Intercom',\n",
       "   'Open car spaces: 1',\n",
       "   'Study']],\n",
       " ['5/569 George st, Sydney, NSW 2000',\n",
       "  'Must Sell $1,100,000',\n",
       "  ' 2',\n",
       "  ' 2',\n",
       "  ' 1',\n",
       "  'None',\n",
       "  'None',\n",
       "  \"Must Sell!! Priced $1,100,000 only for APT in heart of Sydney 5/569 George st, SydneyOwner priced to sell!!! In total 155 M2+car space!!!Outside deck/belcony of in total more than 55 square meters, this opportunity is realy rare for any buyers wishing to own an apartment in the heart of Sydney, close to everything!Prime mid-town position in one of Sydney CBD's most sought-after residential enclaves.Moments' walk to Hyde Park, Central Statin, Town Hall Station, QVB and world-famous shopping on Pitt Street Mall. Of course the Chinatown is just behind. Features include:- Generous living spaces opening onto huge balcony(38 m) - Two generous bedrooms(with large belcony)- Two large bathrooms- 1 X car space- Open plan chef's kitchen- Internal laundry- Strata: $2048.00- Council: $1170.50/year- Water: $185.25/qBuilding come with full size swimming pool, gym. Inspections anytime by appointment. Contact Tom Shen on 0425000331Read more\",\n",
       "  ['Air conditioning',\n",
       "   'Alarm system',\n",
       "   'Balcony',\n",
       "   'Built-in wardrobes',\n",
       "   'Carport spaces: 1',\n",
       "   'Dishwasher',\n",
       "   'Ensuites: 1',\n",
       "   'Living areas: 1',\n",
       "   'Toilets: 2']],\n",
       " ['1102/98 Gloucester Street, Sydney, NSW 2000',\n",
       "  '$850,000 - $900,000',\n",
       "  ' 1',\n",
       "  ' 1',\n",
       "  ' 1',\n",
       "  'None',\n",
       "  'None',\n",
       "  \"Hotel style living in premier 'Quay West' development.1102/98 Gloucester Street, SydneySetting the scene for a premier Sydney lifestyle, this luxurious apartment delivers space, style and sweeping views over the sparkling cityscape. Placed in the exclusive 'Quay West' complex, it's encircled by world class amenities and iconic landmarks.• Open plan living/dining zone offers comfort and relaxation• Surrounding windows enhance dazzling metropolitan backdrop• Integrated kitchen hosts granite benches and sleek appliances• Indulgent and well proportioned bedroom for private downtime• Separate bathtub and shower inside marble enveloped bathroom• Internal laundry, level lift access, secure intercom entrance• Access to view swept common terrace and in house restaurants• Hotel facilities of room service, gym, pool, spa, and sauna• Ideal for investor, executive or anyone seeking central base• Stroll to vibrant Barangaroo, Circular Quay and The RocksStrata: $2392pq approx.Council: $227pq approx.Water $185pq approx.Read more\",\n",
       "  []],\n",
       " ['801/23 Shelley Street, Sydney, NSW 2000',\n",
       "  'Auction',\n",
       "  ' 2',\n",
       "  ' 2',\n",
       "  ' 1',\n",
       "  '\\xa0106',\n",
       "  'None',\n",
       "  'Luxury living by the harbour801/23 Shelley Street, SydneyFlowing over an impressive 106sqm and capturing sensational harbour views, this stunning home offers low maintenance contemporary living for the discerning professional, downsizer or investor alike. Filled with afternoon light, it is just a stroll to the vibrant cultural enclave that is Barangaroo.- Level 8, exceptional outlook across Darling Harbour- Open plan lounge area is suitable for entertaining- Deluxe kitchen with gas appliances, stone benches- Dual access balcony from bedroom and living- Generous secluded study, ducted air conditioning- Concierge, pool, gymnasium, spa, ample storageOffering central city living without compromise, this quality home is just a short walk to Wynyard Station and the George Street light rail, as well as metres to cafes, restaurants and King St wharf.Outgoings:Water Rates: $179 p/q approx.Council Rates: $250 p/q approx.Strata Levies: $2856 p/q approx.Read more',\n",
       "  ['Building size: 106m²', 'Land size: 121m²', 'Open car spaces: 1']],\n",
       " ['2001/161 Clarence St, Sydney, NSW 2000',\n",
       "  '$1,600,000',\n",
       "  ' 2',\n",
       "  ' 2',\n",
       "  ' 1',\n",
       "  'None',\n",
       "  'None',\n",
       "  \"Luxury 2 bedroom apartment for sale 2001/161 Clarence St, SydneyBrand New Apartment in the heart of Sydney CBDThis 2 stunning bedroom, located in the center of Sydney CBD, offering world class design and facilities, is set to redefine an internationally renowned skyline. A short walk to Barangaroo, the world's famous and a new waterfront dining destination for Sydneysiders. An easy stroll from the world's leading luxury brand names along Castlereagh Street or the diverse dining and entertainment options on Darling Harbour, residents are spoiled for choice.Arc is a design collaboration from globally renowned architect Koichi Takada and the Crown Group. It is described as 'a soaring embodiment of this stunning metropolis, a kaleidoscope of beauty, luxury and understated style.'- Architect: www.koichitakada.com/projects/sydney-by-crown- Developer: www.arcbycrowngroup.com.au- Miele Appliances in the sleek contemporary kitchen- Luxuriant soft wool blend carpet in the bedrooms- Ducted Air Conditioning- Recessed LED downlights- Lockup storage room- Great View as this is particular apartment facing Kent St with Darling Harbour ViewFrom the brickwork, two glass steel towers soar high into the Sydney sky. Step inside and you'll be welcomed by an ever-changing vista of panoramic views across Sydney's far horizon. Please ring Sabrina on 0411 161 998 for more information. Read more\",\n",
       "  ['Swimming pool - in-ground']],\n",
       " ['801/70 Tumbalong Boulevard, Sydney, NSW 2000',\n",
       "  '$4,500,000',\n",
       "  ' 3',\n",
       "  ' 3',\n",
       "  ' 2',\n",
       "  'None',\n",
       "  'None',\n",
       "  \"Luxurious penthouse in brand new boutique building801/70 Tumbalong Boulevard, SydneyLocated in exclusive 'Barker House' within the esteemed Darling Square development, this sophisticated dual level penthouse apartment showcases elevated urban outlooks and a phenomenal use of natural light. It's placed just footsteps from the light rail.• Open plan living/dining with double height wraparound windows• Glass stacker doors open onto oversized entertaining balcony• Gourmet gas kitchen has Miele appliances and stone benchtops• Three spacious bedrooms with mirrored built-ins, plush carpet• Chic master bedroom includes ensuite with freestanding tub• Full contemporary bathroom on each level, internal laundry• Timber floorboards, ducted air conditioning, video intercom• Access to amenities including gym and outdoor swimming pool• Two secure car spaces and storage cage plus internal storeroom• Restaurants, bars, library and Darling Harbour on doorstepStrata: $3,852pq approx.Water: $185pq approx.Council: $293pq approx.Apartment: 174sqmParking: 28sqmStorage: 3sqmRead more\",\n",
       "  ['Open car spaces: 2']],\n",
       " ['501/19 Hickson Road, Walsh Bay, NSW 2000',\n",
       "  'Price on request',\n",
       "  ' 2',\n",
       "  ' 2',\n",
       "  ' 1',\n",
       "  'None',\n",
       "  'None',\n",
       "  \"Unrivalled harbourfront luxury in the prestigious Pier 6/7501/19 Hickson Road, Walsh BayStriking an immediate impression with 180-degree harbour views and a full-length terrace at the water's edge, this flawless residence commands a breathtaking position on Sydney's only private residential pier. It reflects the quintessential luxury Sydney lifestyle, mere minutes walk from the Rocks and Barangaroo.- Spacious open plan with distinct lounge and dining zones- Breakfast setting overlooking calm waters of the marina- Stunning entertainers' terrace captures incredible sunsets- Living area enclosed by floor-to-ceiling wraparound glass- Deluxe stone kitchen, full suite of Miele gas appliances- Both bedrooms have direct terrace access, superb views- Master bedroom with private office and elegant ensuite- Ducted A/C, lift access to secure parking and storage- Heated lap pool, spa, sauna, gym, 24-hour concierge- Steps to the upcoming Barangaroo metro, walk to CBDOutgoings:Strata Levies: $2,707pq (approx)Water - $179pq (approx)Council - $293pq (approx)Read more\",\n",
       "  ['Open car spaces: 1']],\n",
       " ['Penthouse 1/199 George Street, The Rocks, NSW 2000',\n",
       "  'Contact Agent',\n",
       "  ' 2',\n",
       "  ' 3',\n",
       "  ' 2',\n",
       "  'None',\n",
       "  'None',\n",
       "  \"Penthouse Living in the Celebrated Four SeasonsPenthouse 1/199 George Street, The RocksIn one of the most iconic towers in Sydney's CBD, the Four Seasons penthouse delivers rare and outstanding inner city, single level living with north-facing panoramas that will take your breath away. This gracious 182m2 home offers a dress circle seat to the best show in town with magical views that spread north over the Harbour Bridge, Opera House and into every corner of the city, while offering a five-star resort hotel lifestyle in the heart of the CBD. The property offers the best of both worlds for low-maintenance lifestyle seekers and smart investors, given its generous design, good security and superb positioning.- A prime position on the north-east corner of the building- A flowing single level layout with excellent natural light- Large picture windows that frame the magnificent outlook- Generous master suite with sitting area, walk-in and ensuite- Security basement parking for two cars plus security lift access- Access to five-star health club and outdoor swimming pool- Hotel amenities include concierge, day spa and wine bars- Excellent future potential for a creative update or redesignINSPECTIONS BY APPOINTMENT.Contact Michael Bao on 0431 818 528 or Jonathon De Brennan on 0422 033 837 for further details.** All information contained herein is gathered from sources we consider to be reliable, however we cannot guarantee or give any warranty to the information provided.Read more\",\n",
       "  ['Garage spaces: 2']],\n",
       " ['88/18 College Street, Sydney, NSW 2000',\n",
       "  'Contact Agent',\n",
       "  ' 3',\n",
       "  ' 4',\n",
       "  ' 3',\n",
       "  '\\xa0789',\n",
       "  'None',\n",
       "  \"The Penthouse88/18 College Street, SydneySetting a benchmark in ultimate penthouse living and featuring unparalleled 270 degree views of the Sydney city skyline and harbour, this prestigious two-level 800 sqm residence is located on the top floor of one of Sydney's most desirable addresses, The Residence Hyde Park.With an idyllic north-facing aspect, 88/18 College Street offers an abundance of natural light with its floor to ceiling windows and impressive Sydney panorama of Hyde Park, Sydney Opera House, Botanic Gardens and Harbour. The 23rd floor penthouse also features a private indoor lift to its own rooftop pool, alfresco/viewing deck and entertaining facilities. There is undercover secure parking for three cars.Indoor features include spacious formal/informal entertaining and living zones and terraces, gas kitchen and wine storage. The three generously proportioned bedrooms all feature ensuites and the master boasting a bath with vistas of Hyde Park as well as featuring an extensive walk-in robe. A dedicated concierge service is available 24 hours a day and additional recreational facilities include a gymnasium, 20 metre lap pool, sauna, spa and resident's private lounge.Set in one of Sydney's most prime positions, The Residence Hyde Park offers exclusivity and privacy with direct access to some of the world's leading boutiques, restaurants, department stores, theatres and historic buildings such as the State Theatre.Key Features Indoor:Floor to ceiling windows with panoramic Sydney Harbour vistasMultitude of seamless living/outdoor entertaining473 sqm internal living spaceNorth-facing, abundance of natural lightChef grade kitchenKing-sized bedrooms  master with private bath overlooking Hyde ParkIndoor lift; ducted air-conditioning; fireplace; wine storageUndercover secure parking for three carsKey Features Outdoor:Private rooftop terrace and pool316 sqm external spaceViewing deck and entertaining facilitiesThree balconies with 270 degree panoramic viewsKey Features Additional:24-hour concierge serviceExtensive recreational facilities including gymnasium, lap pool, sauna, steam roomResident's private loungeWithin footsteps to Hyde Park, department stores, restaurants and boutiquesExtremely secure and privateRead more\",\n",
       "  ['Building size: 789m²', 'Open car spaces: 3']],\n",
       " ['69  Windmill Street, Millers Point, NSW 2000',\n",
       "  'Expressions of Interest',\n",
       "  ' 7',\n",
       "  ' 4',\n",
       "  'None',\n",
       "  'None',\n",
       "  'None',\n",
       "  \"Former 'Hit or Miss' Hotel with plans to create grand Italianate residence 69  Windmill Street, Millers PointAn exciting opportunity exists to own a slice of Sydney's historic past, this magnificent c1898 Italianate residence was built as the 'Hit or Miss' Hotel.  It includes DA approved plans and is primed for a sympathetic restoration. It is positioned footsteps to theatres, historic pubs and dining.- Heritage listed residence primed for sympathetic restoration- Located in the heart of the Millers Point heritage precinct- The hotel was transformed into residential flats in 1930- Exquisite sandstone walls, soaring pressed metal ceilings- Potential also exists to convert to a boarding house orboutique hotel (STCA)- Upper level bedrooms capture intimate Harbour Bridge views- DA approved plans to re-create a grand city residence - Plans include six beds, study, lift, large basement cellar- Options for maid quarters and/or separate fully contained accommodation with own access- Stroll to theatres, historic pubs and harbourside dining- Moments to Observatory Hill, Barangaroo, The Rocks and CBDRead more\",\n",
       "  []],\n",
       " ['129 Harrington Street, Sydney, NSW 2000',\n",
       "  '$1,400,000 - $1,450,000',\n",
       "  ' 1',\n",
       "  ' 1',\n",
       "  ' 1',\n",
       "  '\\xa078',\n",
       "  'None',\n",
       "  \"NORTH FACING ONE BEDROOM WITH HARBOUR BRIDGE VIEWS129 Harrington Street, SydneyNow on offer is a stunning North West one bedroom in Harry Seidler's Cove, featuring sweeping views of the Harbour Bridge and Observatory Hill. Cove is an award winning development, set in one of Sydney's most prestigious precincts, within close distance to the newly developed Barangaroo and vibrant Rocks restaurant zone. - Spacious 64sqm living area with floor to ceiling windows and additional 14sqm signature wave balcony - Glass framed bedroom overlooks the Harbour Bridge and breathtaking city views - Open plan kitchen with European appliances, abundance of storage & study nook- Modern streamlined bathroom, air conditioning & internal laundry- One secure car space and separate storage cage- 24 hour concierge, heated pool, gym, sauna, library & world class function room- Close to Opera House, Walsh Bay, Rocks precinct & Darling Harbour Please contact Monique Lavers on 0416 200 686 or monique@sydneycoveproperty.comAll information contained herein is gathered from sources we deem to be reliable however, we cannot guarantee its accuracy and interested persons should rely on their own enquiries.Read more\",\n",
       "  ['Building size: 78m²', 'Garage spaces: 1']],\n",
       " ['34/359-361 Pitt Street, Sydney, NSW 2000',\n",
       "  'For Sale - Price Guide $475,000',\n",
       "  ' 1',\n",
       "  ' 1',\n",
       "  ' 2',\n",
       "  'None',\n",
       "  'None',\n",
       "  'Meticulously Renovated City Apartment34/359-361 Pitt Street, SydneyLocated on the 3rd floor with an large balcony space this studio apartment has been meticulously renovated to a luxurious standard with bespoke cabinetry throughout.   Featuring limed oak flooring, caesarstone benchtops, built-in desk, washer/dryer, ceramic cooktop and a stainless steel stove.   The bathroom has been renovated to an extremely high standard with quality tapware. The apartment has excellent storage, quality appliances and inclusions of a large wall mounted television, boiling water dispenser, water filter system, insinkerator and even a hidden safe. A perfect first home or investment property in a prime location the heart of the city. OutgoingsLevies $1,030.12pqRates $292.20pqWater $185.25pqRead more',\n",
       "  []],\n",
       " ['1106/5 York Street, Sydney, NSW 2000',\n",
       "  '$1,190,000',\n",
       "  ' 1',\n",
       "  ' 1',\n",
       "  ' 1',\n",
       "  'None',\n",
       "  'None',\n",
       "  'Inspect Saturday 7th September from 11:00 - 11:30am1106/5 York Street, SydneyRare offering within an exceptional northern city locationUnique in size and location this sun drenched apartment offers generous internals including a powder room and balcony accessible from the lounge & bedroom. North facing the apartment enjoys an outlook capturing superb city views. Residents of the York enjoy a relaxing garden sanctuary within the CBD including a heated outdoor pool, sundeck, Jacuzzi, gym and sauna, all within footsteps of transport, dining, shopping and entertainment.-    Oversized one-bedroom 88sqm including balcony-    Full brick construction-     Conveniently located between The Rocks, Barangaroo & Wynyard-    Flexible residential investment options-    Exceptional resort facilitiesRead more',\n",
       "  ['Open car spaces: 1']],\n",
       " ['1808/178 Thomas Street, Haymarket, NSW 2000',\n",
       "  'Expressions of Interest',\n",
       "  ' 2',\n",
       "  ' 2',\n",
       "  ' 2',\n",
       "  'None',\n",
       "  'None',\n",
       "  \"Prestigious sub-penthouse apartment with double parking1808/178 Thomas Street, HaymarketA flawless offering of unquestionable distinction and pedigree, this immaculate residence defines luxurious city living. The home is beautifully crafted for the entertaining lifestyle. Impeccably presented with state of the art appointments, the light-filled interiors flow over entire apartment. - Immaculately presented to the most exacting of standards - Awash with the natural light of a due North East aspect- Designed with effortless indoor/outdoor living in mind- Sleek CaeserStone kitchen comes with European gas appliances - Palatial master with custom built ins and deluxe ensuite with bath- Generous sun-washed balcony, low maintenance interiors - Clean contemporary lines and a sensitive colour palette- Ducted air conditioning, two large car spaces and storerooms- Designed by renowned award winning WMK Architects - Flexible floor plan with potential large study/third bedroom- Views capture Darling Harbour's firework displays - Conveniently placed just a short stroll to the heart of the city- Security intercom, lift access, gym, BBQ area- Double parking (side by side) plus double storage cageQuarterly Strata levy:     Approx. Admin fund $1535, capital works: $193 Quarterly Water rate:     Approx. $170 Quarterly Council Rate: Approx. $250 Read more\",\n",
       "  ['Garage spaces: 2']],\n",
       " ['505/38 Hickson Road, Sydney, NSW 2000',\n",
       "  '$2,199,000',\n",
       "  ' 3',\n",
       "  ' 2',\n",
       "  ' 2',\n",
       "  '\\xa0144',\n",
       "  'None',\n",
       "  \"The Bond | Sunny North facing  |  Spacious 144m2505/38 Hickson Road, SydneyInvest in the near future with this extremely well priced North facing three bedroom apartment.  The Bond is set on the edge of the exclusive Barangaroo precinct, it is a boutique building and this stunning 3 bedroom residence is a strong investment opportunity and perfect for the owner occupier. Boasting privacy with only 6 apartments per floor, this apartment is perfectly positioned within the Barangaroo precinct to capitalise on the future immediate development and increase in infrastructure.- 5 star boutique building of only 49 apartments built by Lend Lease - Spacious 144 m2 floor plan with sunlit north-west light throughout - Oversized bedrooms all with Northern light - Sleek, spacious & modern kitchen with all brand new European appliances- An Abundance of storage throughout the apartment - Air conditioning, internal laundry and security intercom- Double side-by-side car spaces plus separate storage cageThe Bond is across the road from Barangaroo and is central to everywhere with its bus, light rail, ferry and soon to be rail station.   A short walk to the Rocks, Walsh Bay, Observatory Hill, King Street Wharf, the CBD and within easy walking distance of Sydney's finest attractions, restaurants and bars.The Bond features an on-site building manager/concierge as well as a heated indoor pool and gymnasium.Was leased for $1,500 per week unfurnished.Quarterly Outgoings: Strata $4350.00pq, Water $178pq, Council $219pqTo arrange a private inspection please call Travis on 0414 347 713.For Sunday inspection please call Vivian 0411 26 28 28Read more\",\n",
       "  ['Air conditioning',\n",
       "   'Building size: 144m²',\n",
       "   'Built-in wardrobes',\n",
       "   'Ensuites: 1',\n",
       "   'Intercom',\n",
       "   'Open car spaces: 2']],\n",
       " ['1106/183 Kent Street, Sydney, NSW 2000',\n",
       "  'Ask agent',\n",
       "  ' 2',\n",
       "  ' 2',\n",
       "  ' 1',\n",
       "  '\\xa0119',\n",
       "  'None',\n",
       "  \"Stamford on Kent | North Facing | Harbour Bridge Views1106/183 Kent Street, SydneyOne of only six properties like it and amongst the most tightly held apartment types in the building.  All snapped up quickly off the plan in 1999 and 2000 due to North East corner and Harbour Bridge view.Spanning 118sqm, the apartment features a very generous flow-through living and dining area, north east entertainers balcony, two well sized bedrooms and two bathrooms with European fixtures and marble tiles.The floor to ceiling windows maximise the light and fantastic view lines from 1106 which is a mixture of water, city and the iconic harbour bridge and Centerpoint tower.As a resident you will experience 5 star city living with 24 hour concierge service & security, and access to a wide range of first class facilities including a stylish 20 metre heated indoor swimming pool, spa & steam rooms and a large fully equipped gymnasium.Situated in a superb location that allows you to enjoy a relaxing lifestyle on the edge of the CBD, minutes from Observatory Hill and within easy walking distance of Sydney's finest attractions, restaurants and bars in The Rocks, Barangaroo & King Street Wharf.Please contact Tim Breckell 0411 73 11 33 or Travis Reeve on 0414 347 713 for further information.    Read more\",\n",
       "  ['Air conditioning',\n",
       "   'Ensuites: 1',\n",
       "   'Land size: 118m²',\n",
       "   'Open car spaces: 1']]]"
      ]
     },
     "execution_count": 46,
     "metadata": {},
     "output_type": "execute_result"
    }
   ],
   "source": [
    "property_data"
   ]
  },
  {
   "cell_type": "code",
   "execution_count": 47,
   "metadata": {},
   "outputs": [],
   "source": [
    "with open(\"./data/nsw_property_data.pickle\", \"wb\") as fp:   #Pickling\n",
    "            pickle.dump(property_data, fp)"
   ]
  },
  {
   "cell_type": "code",
   "execution_count": 69,
   "metadata": {},
   "outputs": [],
   "source": [
    "with open(\"./data/nsw_property_data.pickle\", \"rb\") as fp:   #Pickling\n",
    "            property_data=pickle.load(fp)"
   ]
  },
  {
   "cell_type": "code",
   "execution_count": null,
   "metadata": {},
   "outputs": [],
   "source": []
  }
 ],
 "metadata": {
  "kernelspec": {
   "display_name": "Python 3",
   "language": "python",
   "name": "python3"
  },
  "language_info": {
   "codemirror_mode": {
    "name": "ipython",
    "version": 3
   },
   "file_extension": ".py",
   "mimetype": "text/x-python",
   "name": "python",
   "nbconvert_exporter": "python",
   "pygments_lexer": "ipython3",
   "version": "3.7.3"
  }
 },
 "nbformat": 4,
 "nbformat_minor": 2
}
